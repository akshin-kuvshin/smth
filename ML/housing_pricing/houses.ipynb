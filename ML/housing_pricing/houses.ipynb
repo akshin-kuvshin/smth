{
 "cells": [
  {
   "cell_type": "code",
   "execution_count": 1,
   "metadata": {},
   "outputs": [
    {
     "name": "stdout",
     "output_type": "stream",
     "text": [
      "Setup succesful!\n"
     ]
    }
   ],
   "source": [
    "import pandas as pd\n",
    "\n",
    "# Здесь LinearRegression в качестве метрики использует MSE, то есть модель подбирает коэф-ты так, чтобы минимизировать значение именно MSE. Стёпа просил в качестве метрики использовать MAE, но как изменить минимизируемую метрику - я не знаю, поэтому просто для наглядности и, наверное, демонстрации понимания/непонимая я отдельно считаю MAE для каждой из моделей.\n",
    "from sklearn.linear_model import LinearRegression\n",
    "\n",
    "from sklearn.preprocessing import StandardScaler, MinMaxScaler, MaxAbsScaler, Normalizer\n",
    "print('Setup succesful!')"
   ]
  },
  {
   "cell_type": "code",
   "execution_count": 10,
   "metadata": {},
   "outputs": [],
   "source": [
    "def MAE(ser1: pd.Series, ser2: pd.Series) -> float:\n",
    "    MAE = 0.\n",
    "    for el1, el2 in zip(ser1, ser2):\n",
    "        MAE += abs(el1 - el2)\n",
    "    return MAE / ser1.size"
   ]
  },
  {
   "cell_type": "code",
   "execution_count": 17,
   "metadata": {},
   "outputs": [],
   "source": [
    "trainX = pd.read_csv('train.csv')\n",
    "trainY = trainX['target']\n",
    "trainX = trainX.drop(['target'], axis=True)"
   ]
  },
  {
   "cell_type": "code",
   "execution_count": 19,
   "metadata": {},
   "outputs": [
    {
     "data": {
      "text/plain": [
       "53491.46030336652"
      ]
     },
     "execution_count": 19,
     "metadata": {},
     "output_type": "execute_result"
    }
   ],
   "source": [
    "# Без стандартизации/нормализации\n",
    "base_data = trainX.copy()\n",
    "base_model = LinearRegression().fit(base_data, trainY)\n",
    "base_predict = base_model.predict(base_data)\n",
    "MAE(trainY, pd.Series(base_predict))"
   ]
  },
  {
   "cell_type": "code",
   "execution_count": 20,
   "metadata": {},
   "outputs": [
    {
     "data": {
      "text/plain": [
       "53491.46030336649"
      ]
     },
     "execution_count": 20,
     "metadata": {},
     "output_type": "execute_result"
    }
   ],
   "source": [
    "# С использованием StandardScaler\n",
    "std_scale_data = StandardScaler().fit_transform(trainX)\n",
    "std_scale_model = LinearRegression().fit(std_scale_data, trainY)\n",
    "std_scale_predict = std_scale_model.predict(std_scale_data)\n",
    "MAE(trainY, pd.Series(std_scale_predict))"
   ]
  },
  {
   "cell_type": "code",
   "execution_count": 22,
   "metadata": {},
   "outputs": [
    {
     "data": {
      "text/plain": [
       "53491.46030336634"
      ]
     },
     "execution_count": 22,
     "metadata": {},
     "output_type": "execute_result"
    }
   ],
   "source": [
    "# С использованием MinMaxScaler\n",
    "minmax_scale_data = MinMaxScaler().fit_transform(trainX)\n",
    "minmax_scale_model = LinearRegression().fit(minmax_scale_data, trainY)\n",
    "minmax_scale_predict = minmax_scale_model.predict(minmax_scale_data)\n",
    "MAE(trainY, pd.Series(minmax_scale_predict))"
   ]
  },
  {
   "cell_type": "code",
   "execution_count": 24,
   "metadata": {},
   "outputs": [
    {
     "data": {
      "text/plain": [
       "53491.4603033665"
      ]
     },
     "execution_count": 24,
     "metadata": {},
     "output_type": "execute_result"
    }
   ],
   "source": [
    "# С использованием MaxAbsScaler\n",
    "maxabs_scale_data = MaxAbsScaler().fit_transform(trainX)\n",
    "maxabs_scale_model = LinearRegression().fit(maxabs_scale_data, trainY)\n",
    "maxabs_scale_predict = maxabs_scale_model.predict(maxabs_scale_data)\n",
    "MAE(trainY, pd.Series(maxabs_scale_predict))"
   ]
  },
  {
   "cell_type": "code",
   "execution_count": 26,
   "metadata": {},
   "outputs": [
    {
     "data": {
      "text/plain": [
       "76504.42805034088"
      ]
     },
     "execution_count": 26,
     "metadata": {},
     "output_type": "execute_result"
    }
   ],
   "source": [
    "# С использованием Normalizer\n",
    "normal_data = Normalizer().fit_transform(trainX)\n",
    "normal_model = LinearRegression().fit(normal_data, trainY)\n",
    "normal_predict = normal_model.predict(normal_data)\n",
    "MAE(trainY, pd.Series(normal_predict))"
   ]
  },
  {
   "cell_type": "code",
   "execution_count": 27,
   "metadata": {},
   "outputs": [
    {
     "data": {
      "text/plain": [
       "53491.46030336655"
      ]
     },
     "execution_count": 27,
     "metadata": {},
     "output_type": "execute_result"
    }
   ],
   "source": [
    "# По Андрею\n",
    "A_data = (trainX - trainX.mean()) / trainX.std()\n",
    "A_model = LinearRegression().fit(A_data, trainY)\n",
    "A_predict = A_model.predict(A_data)\n",
    "MAE(trainY, pd.Series(A_predict))"
   ]
  },
  {
   "cell_type": "markdown",
   "metadata": {},
   "source": [
    "Вывод: Normalizer - **какая-то фигня**(\n",
    "\n",
    "Сейчас будем делать 100500 submissions)"
   ]
  },
  {
   "cell_type": "code",
   "execution_count": 44,
   "metadata": {},
   "outputs": [],
   "source": [
    "test = pd.read_csv('test.csv')\n",
    "sample = pd.read_csv('sample_submission.csv')"
   ]
  },
  {
   "cell_type": "code",
   "execution_count": 45,
   "metadata": {},
   "outputs": [],
   "source": [
    "# Без стандартизации/нормализации\n",
    "base_sub = base_model.predict(test)\n",
    "base_sub_df = sample.copy()\n",
    "base_sub_df['target'] = base_sub\n",
    "base_sub_df.to_csv('base_sub.csv', index=False)"
   ]
  },
  {
   "cell_type": "code",
   "execution_count": 47,
   "metadata": {},
   "outputs": [],
   "source": [
    "# С использованием StandardScaler\n",
    "std_scale_test = StandardScaler().fit_transform(test)\n",
    "std_scale_sub = std_scale_model.predict(std_scale_test)\n",
    "std_scale_df = sample.copy()\n",
    "std_scale_df['target'] = std_scale_sub\n",
    "std_scale_df.to_csv('std_scale_sub.csv', index=False)"
   ]
  },
  {
   "cell_type": "code",
   "execution_count": 48,
   "metadata": {},
   "outputs": [],
   "source": [
    "# С использованием MinMaxScaler\n",
    "minmax_scale_test = MinMaxScaler().fit_transform(test)\n",
    "minmax_scale_sub = minmax_scale_model.predict(minmax_scale_test)\n",
    "minmax_scale_df = sample.copy()\n",
    "minmax_scale_df['target'] = minmax_scale_sub\n",
    "minmax_scale_df.to_csv('minmax_scale_sub.csv', index=False)"
   ]
  },
  {
   "cell_type": "code",
   "execution_count": 49,
   "metadata": {},
   "outputs": [],
   "source": [
    "# С использованием MaxAbsScaler\n",
    "maxabs_scale_test = MaxAbsScaler().fit_transform(test)\n",
    "maxabs_scale_sub = maxabs_scale_model.predict(maxabs_scale_test)\n",
    "maxabs_scale_df = sample.copy()\n",
    "maxabs_scale_df['target'] = maxabs_scale_sub\n",
    "maxabs_scale_df.to_csv('maxabs_scale_sub.csv', index=False)"
   ]
  },
  {
   "cell_type": "code",
   "execution_count": 50,
   "metadata": {},
   "outputs": [],
   "source": [
    "# С использованием Normalizer (по приколу стоит попробовать)\n",
    "normal_test = Normalizer().fit_transform(test)\n",
    "normal_sub = normal_model.predict(normal_test)\n",
    "normal_df = sample.copy()\n",
    "normal_df['target'] = normal_sub\n",
    "normal_df.to_csv('normal_sub.csv', index=False)"
   ]
  },
  {
   "cell_type": "code",
   "execution_count": 51,
   "metadata": {},
   "outputs": [],
   "source": [
    "# По Андрею\n",
    "A_test = (test - test.mean()) / test.std()\n",
    "A_sub = A_model.predict(A_test)\n",
    "A_df = sample.copy()\n",
    "A_df['target'] = A_sub\n",
    "A_df.to_csv('A_sub.csv', index=False)"
   ]
  },
  {
   "cell_type": "markdown",
   "metadata": {},
   "source": [
    "На удивление, именно Normalizer выбил лучший результат..."
   ]
  }
 ],
 "metadata": {
  "kernelspec": {
   "display_name": "Python 3.12.4 64-bit",
   "language": "python",
   "name": "python3"
  },
  "language_info": {
   "codemirror_mode": {
    "name": "ipython",
    "version": 3
   },
   "file_extension": ".py",
   "mimetype": "text/x-python",
   "name": "python",
   "nbconvert_exporter": "python",
   "pygments_lexer": "ipython3",
   "version": "3.12.4"
  },
  "orig_nbformat": 4,
  "vscode": {
   "interpreter": {
    "hash": "53de95023a181079df2d9546166d9459d85e1c184a3179b44f577f92caec9723"
   }
  }
 },
 "nbformat": 4,
 "nbformat_minor": 2
}
