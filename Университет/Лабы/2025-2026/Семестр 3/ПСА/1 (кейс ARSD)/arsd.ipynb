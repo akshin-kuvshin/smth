{
 "cells": [
  {
   "cell_type": "markdown",
   "id": "9a4e0e5e",
   "metadata": {
    "papermill": {
     "duration": 0.002372,
     "end_time": "2025-09-17T17:25:27.870767",
     "exception": false,
     "start_time": "2025-09-17T17:25:27.868395",
     "status": "completed"
    },
    "tags": []
   },
   "source": [
    "## In this solution I assume that optimal routes consists only of routes like '0-1-2-3-4-0', '0-11-12-1-2-0', etc."
   ]
  },
  {
   "cell_type": "code",
   "execution_count": 1,
   "id": "b8991293",
   "metadata": {
    "_cell_guid": "b1076dfc-b9ad-4769-8c92-a6c4dae69d19",
    "_uuid": "8f2839f25d086af736a60e9eeb907d3b93b6e0e5",
    "execution": {
     "iopub.execute_input": "2025-09-17T17:25:27.876793Z",
     "iopub.status.busy": "2025-09-17T17:25:27.875694Z",
     "iopub.status.idle": "2025-09-17T17:25:27.893220Z",
     "shell.execute_reply": "2025-09-17T17:25:27.891430Z"
    },
    "papermill": {
     "duration": 0.022056,
     "end_time": "2025-09-17T17:25:27.894895",
     "exception": false,
     "start_time": "2025-09-17T17:25:27.872839",
     "status": "completed"
    },
    "tags": []
   },
   "outputs": [
    {
     "name": "stdout",
     "output_type": "stream",
     "text": [
      "success\n"
     ]
    }
   ],
   "source": [
    "# data from .pdf-file.\n",
    "\n",
    "needs = [None, 2, 4, 4, 3, 3, 4, 2, 2, 3, 2, 2, 2]\n",
    "\n",
    "path = [[None] * (12 + 1) for _ in range(12 + 1)]\n",
    "path[0][1] = path[1][0] = 10\n",
    "path[0][2] = path[2][0] = 25\n",
    "path[0][3] = path[3][0] = 28\n",
    "path[0][4] = path[4][0] = 24\n",
    "path[0][5] = path[5][0] = 17\n",
    "path[0][6] = path[6][0] = 27 # 0-5-6 is shorter than 0-6.\n",
    "path[0][7] = path[7][0] = 15\n",
    "path[0][8] = path[8][0] = 10\n",
    "path[0][9] = path[9][0] = 17\n",
    "path[0][10] = path[10][0] = 14\n",
    "path[0][11] = path[11][0] = 14\n",
    "path[0][12] = path[12][0] = 16\n",
    "path[1][2] = path[2][1] = 17\n",
    "path[2][3] = path[3][2] = 10\n",
    "path[3][4] = path[4][3] = 7\n",
    "path[4][5] = path[5][4] = 10\n",
    "path[5][6] = path[6][5] = 10\n",
    "path[6][7] = path[7][6] = 15\n",
    "path[7][8] = path[8][7] = 11\n",
    "path[8][9] = path[9][8] = 9\n",
    "path[9][10] = path[10][9] = 8\n",
    "path[10][11] = path[11][10] = 7\n",
    "path[11][12] = path[12][11] = 5\n",
    "path[12][1] = path[1][12] = 10\n",
    "\n",
    "print('success')"
   ]
  },
  {
   "cell_type": "code",
   "execution_count": 2,
   "id": "95aae276",
   "metadata": {
    "execution": {
     "iopub.execute_input": "2025-09-17T17:25:27.899598Z",
     "iopub.status.busy": "2025-09-17T17:25:27.899294Z",
     "iopub.status.idle": "2025-09-17T17:25:27.904720Z",
     "shell.execute_reply": "2025-09-17T17:25:27.903684Z"
    },
    "papermill": {
     "duration": 0.00964,
     "end_time": "2025-09-17T17:25:27.906323",
     "exception": false,
     "start_time": "2025-09-17T17:25:27.896683",
     "status": "completed"
    },
    "tags": []
   },
   "outputs": [
    {
     "name": "stdout",
     "output_type": "stream",
     "text": [
      "success\n"
     ]
    }
   ],
   "source": [
    "# TODO:\n",
    "# 1) count_weight;\n",
    "# 2) count_distance;\n",
    "# 3) count_time_in_minutes;\n",
    "# 4) count_truck_cost;\n",
    "# 5) dfs.\n",
    "\n",
    "print('success')"
   ]
  }
 ],
 "metadata": {
  "kaggle": {
   "accelerator": "none",
   "dataSources": [],
   "isGpuEnabled": false,
   "isInternetEnabled": true,
   "language": "python",
   "sourceType": "notebook"
  },
  "kernelspec": {
   "display_name": "Python 3",
   "language": "python",
   "name": "python3"
  },
  "language_info": {
   "codemirror_mode": {
    "name": "ipython",
    "version": 3
   },
   "file_extension": ".py",
   "mimetype": "text/x-python",
   "name": "python",
   "nbconvert_exporter": "python",
   "pygments_lexer": "ipython3",
   "version": "3.11.13"
  },
  "papermill": {
   "default_parameters": {},
   "duration": 6.45604,
   "end_time": "2025-09-17T17:25:28.327354",
   "environment_variables": {},
   "exception": null,
   "input_path": "__notebook__.ipynb",
   "output_path": "__notebook__.ipynb",
   "parameters": {},
   "start_time": "2025-09-17T17:25:21.871314",
   "version": "2.6.0"
  }
 },
 "nbformat": 4,
 "nbformat_minor": 5
}
